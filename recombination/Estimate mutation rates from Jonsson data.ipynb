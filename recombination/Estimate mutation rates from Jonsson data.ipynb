{
 "cells": [
  {
   "cell_type": "markdown",
   "metadata": {},
   "source": [
    "## Estimate mutation rates from Jonsson data\n",
    "\n",
    "Data from Jónsson et al., 2017 *Parental influence on human germline de novo mutations in 1,548 trios from iceland*."
   ]
  },
  {
   "cell_type": "code",
   "execution_count": 1,
   "metadata": {},
   "outputs": [],
   "source": [
    "import os\n",
    "import numpy as np\n",
    "import pandas as pd\n",
    "from collections import Counter\n",
    "from scipy.stats import beta\n",
    "%matplotlib inline\n",
    "import matplotlib\n",
    "import matplotlib.pyplot as plt"
   ]
  },
  {
   "cell_type": "markdown",
   "metadata": {},
   "source": [
    "Calculate average mutation rate and point mutation rate"
   ]
  },
  {
   "cell_type": "code",
   "execution_count": 8,
   "metadata": {},
   "outputs": [
    {
     "name": "stdout",
     "output_type": "stream",
     "text": [
      "1.2798469248190107e-08\n",
      "1.1907487557556863e-08\n"
     ]
    }
   ],
   "source": [
    "dnms = 108778  # (note this is dnm rate not SNP rate)\n",
    "snps = 101377  # i.e. de novo mutations that are point mutations\n",
    "probands = 1548     #i.e. sample size (there are 2 chromosomes per proband)\n",
    "sites = 2.683e9  #i.e. number of sites in autosomal genome processed by Jónsson\n",
    "dup = 6034*.971*.421   #duplicate twin sites to be excluded (see Jonsson et al. p520, first para)\n",
    "print((dnms - dup) / (sites * probands * 2))\n",
    "print((snps - dup) / (sites * probands * 2))"
   ]
  },
  {
   "cell_type": "markdown",
   "metadata": {},
   "source": [
    "Calculate posterior distribution of mutation rate and point mutation rate"
   ]
  },
  {
   "cell_type": "code",
   "execution_count": 18,
   "metadata": {},
   "outputs": [
    {
     "name": "stdout",
     "output_type": "stream",
     "text": [
      "SNPs- mode of posterior distribution:   1.1907607944216695e-08\n",
      "SNPs- mean of posterior distribution:   1.1907487557556863e-08\n",
      "SNPs- standard deviation of posterior:  3.786162530995259e-11\n",
      "\n",
      "DNMs- mode of posterior distribution:  1.2798589634849724e-08\n",
      "DNMs- mean of posterior distribution:  1.2798469248190107e-08\n"
     ]
    },
    {
     "data": {
      "image/png": "[encoded data removed]",
      "text/plain": [
       "<Figure size 432x288 with 1 Axes>"
      ]
     },
     "metadata": {
      "needs_background": "light"
     },
     "output_type": "display_data"
    }
   ],
   "source": [
    "a = snps - dup \n",
    "b = sites * probands * 2 - (snps - dup)\n",
    "x = np.linspace(1.15e-8, 1.30e-8, 100)\n",
    "y = beta.pdf(x, a + 1, b + 1)\n",
    "plt.plot(x, y)\n",
    "print('SNPs- mode of posterior distribution:  ', (a + 1) / (a + b + 2))\n",
    "print('SNPs- mean of posterior distribution:  ', a  / (a + b))\n",
    "v = (a * b) / ((a + b + 1) * (a + b)**2)\n",
    "print('SNPs- standard deviation of posterior: ', np.sqrt(v))\n",
    "a2 = dnms - dup \n",
    "b2 = sites * probands * 2 - (dnms - dup)\n",
    "y2 = beta.pdf(x, a2 + 1, b2 + 1)\n",
    "print('\\nDNMs- mode of posterior distribution: ', (a2 + 1) / (a2 + b2 + 2))\n",
    "print('DNMs- mean of posterior distribution: ', a2  / (a2 + b2))\n",
    "plt.plot(x, y2)\n",
    "plt.show()"
   ]
  },
  {
   "cell_type": "markdown",
   "metadata": {},
   "source": [
    "Calculate confident limits for mutation rates."
   ]
  },
  {
   "cell_type": "code",
   "execution_count": 20,
   "metadata": {},
   "outputs": [
    {
     "name": "stdout",
     "output_type": "stream",
     "text": [
      "95% confidence limits for point mutation rate:  (1.1833513835222511e-08, 1.1981929781690326e-08)\n"
     ]
    }
   ],
   "source": [
    "percent = 95\n",
    "quantiles = beta.interval(percent / 100, a + 1, b + 1)\n",
    "print(str(percent) + '% confidence limits for point mutation rate: ', quantiles)\n",
    "#quantiles = np.array(quantiles)\n",
    "#quantiles = (((quantiles * seq_len) / (dnm_count * snp_count)) - 1) * mut_rate**2"
   ]
  },
  {
   "cell_type": "markdown",
   "metadata": {},
   "source": [
    "Calculate average mutation rates for each chromosome separately."
   ]
  },
  {
   "cell_type": "code",
   "execution_count": 25,
   "metadata": {},
   "outputs": [
    {
     "name": "stdout",
     "output_type": "stream",
     "text": [
      "2875001522\n",
      "1 1.1045541764661985e-08\n",
      "2 1.2481509352581898e-08\n",
      "3 1.254443516411994e-08\n",
      "4 1.2609734521720365e-08\n",
      "5 1.216379148788216e-08\n",
      "6 1.2228991967962778e-08\n",
      "7 1.2298304077726808e-08\n",
      "8 1.3325693328599174e-08\n",
      "9 1.0711369887343474e-08\n",
      "10 1.238059175011868e-08\n",
      "11 1.2241940318060874e-08\n",
      "12 1.2117457093135447e-08\n",
      "13 1.0174746106096945e-08\n",
      "14 1.0146311894484388e-08\n",
      "15 1.0516600482736078e-08\n",
      "16 1.2597261162425896e-08\n",
      "17 1.1681529656302903e-08\n",
      "18 1.1855256275211491e-08\n",
      "19 1.214570124735936e-08\n",
      "20 1.1756514975959873e-08\n",
      "21 8.965863348091259e-09\n",
      "22 9.024242643357694e-09\n",
      "[1.1045541764661985e-08, 1.2481509352581898e-08, 1.254443516411994e-08, 1.2609734521720365e-08, 1.216379148788216e-08, 1.2228991967962778e-08, 1.2298304077726808e-08, 1.3325693328599174e-08, 1.0711369887343474e-08, 1.238059175011868e-08, 1.2241940318060874e-08, 1.2117457093135447e-08, 1.0174746106096945e-08, 1.0146311894484388e-08, 1.0516600482736078e-08, 1.2597261162425896e-08, 1.1681529656302903e-08, 1.1855256275211491e-08, 1.214570124735936e-08, 1.1756514975959873e-08, 8.965863348091259e-09, 9.024242643357694e-09]\n"
     ]
    }
   ],
   "source": [
    "chr_lengths = [248956422, 242193529, 198295559, 190214555, 181538259, 170805979, 159345973, 145138636,\\\n",
    "               138394717, 133797422, 135086622, 133275309, 114364328, 107043718, 101991189, 90338345,\\\n",
    "               83257441, 80373285, 58617616, 64444167, 46709983, 50818468]\n",
    "print(sum(chr_lengths))\n",
    "chr_lengths_adj = np.array(chr_lengths) * (sites / sum(chr_lengths))\n",
    "path = \"/Users/helmutsimon/Google Drive/Genetics/De novo mutations project PRJEB21300\"\n",
    "if not os.getcwd() == path:\n",
    "    os.chdir(path)\n",
    "fname = 'PRJEB21300_all_SNPs.csv'\n",
    "snp_tab = pd.read_csv(fname, sep=',', index_col=0)\n",
    "chrs = snp_tab['chr']\n",
    "dnm_counts = Counter(chrs)\n",
    "mrates = list()\n",
    "for i in range(1, 23):\n",
    "    chr = 'chr' + str(i)\n",
    "    mrate = dnm_counts[chr] / (chr_lengths_adj[i - 1] * probands * 2)\n",
    "    print(i, mrate)\n",
    "    mrates.append(mrate)\n",
    "print(mrates)"
   ]
  },
  {
   "cell_type": "code",
   "execution_count": null,
   "metadata": {},
   "outputs": [],
   "source": []
  }
 ],
 "metadata": {
  "kernelspec": {
   "display_name": "Python 3",
   "language": "python",
   "name": "python3"
  },
  "language_info": {
   "codemirror_mode": {
    "name": "ipython",
    "version": 3
   },
   "file_extension": ".py",
   "mimetype": "text/x-python",
   "name": "python",
   "nbconvert_exporter": "python",
   "pygments_lexer": "ipython3",
   "version": "3.7.3"
  }
 },
 "nbformat": 4,
 "nbformat_minor": 2
}
