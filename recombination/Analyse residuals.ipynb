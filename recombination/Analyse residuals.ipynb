{
 "cells": [
  {
   "cell_type": "markdown",
   "metadata": {},
   "source": [
    "## Analyse residuals\n",
    "\n",
    "This notebook investigates the use of the Cochrane-Orcutt method to improve a linear model of  mutation against recombination by correcting for the auto-correlation of residuals."
   ]
  },
  {
   "cell_type": "code",
   "execution_count": null,
   "metadata": {},
   "outputs": [],
   "source": [
    "import numpy as np\n",
    "import pandas as pd\n",
    "import os\n",
    "import datetime\n",
    "from sklearn.linear_model import LinearRegression\n",
    "from statsmodels.tsa.stattools import adfuller\n",
    "import statsmodels.tsa.api as smt\n",
    "%matplotlib inline\n",
    "import matplotlib\n",
    "import matplotlib.pyplot as plt\n",
    "from matplotlib.backends.backend_pdf import PdfPages\n",
    "\n",
    "\n",
    "projdir = \"...\"   # Path to shared directory\n",
    "if not os.getcwd() == projdir:\n",
    "    os.chdir(projdir)\n",
    "from shared import recombination\n",
    "\n",
    "path = \"...\"      # Path to data file\n",
    "if not os.getcwd() == path:\n",
    "    os.chdir(path)"
   ]
  },
  {
   "cell_type": "markdown",
   "metadata": {},
   "source": [
    "Open datafile, clean data and calculate residuals from ordinary least squares linear regression.\n",
    "\n",
    "The data files are produced by sample_ensembl_for_recombination.py or merge_male_and_female_recombination_rates.py."
   ]
  },
  {
   "cell_type": "code",
   "execution_count": null,
   "metadata": {},
   "outputs": [],
   "source": [
    "chrom = '1'\n",
    "sex = 'sexav'       #options are male, female, sex-averaged\n",
    "csv_filename = 'Recombination_data/recomb_table_all_sexes_ch' + chrom + '.csv'\n",
    "data_table = pd.read_csv(csv_filename, sep=',', index_col=0)\n",
    "data_table = recombination.correct_missing_data(data_table,'LOCF', sex)\n",
    "variants_profiled = data_table.iloc[:, np.arange(5, 17)]\n",
    "variant_counts = variants_profiled.sum(axis=1)\n",
    "var_rates = variant_counts / 10000\n",
    "std_col = 'stdrate_' + sex\n",
    "std_rates = data_table[std_col].values\n",
    "print('Avge. mutation rate ', np.mean(var_rates))\n",
    "xvals = std_rates.reshape(-1, 1)\n",
    "lmodel = LinearRegression()\n",
    "lmodel.fit(xvals, var_rates)\n",
    "residuals = var_rates - lmodel.predict(xvals)\n",
    "print('Slope, intercept, mean of residuals = ',\\\n",
    "          '%.8f' % lmodel.coef_[0], '%.8f' % lmodel.intercept_, '%.12f' % np.mean(residuals))\n",
    "residuals = residuals.values"
   ]
  },
  {
   "cell_type": "markdown",
   "metadata": {},
   "source": [
    "Plot residuals"
   ]
  },
  {
   "cell_type": "code",
   "execution_count": null,
   "metadata": {},
   "outputs": [],
   "source": [
    "with PdfPages(\"Article_references/correlation_plot_supp_a.pdf\") as pdf:\n",
    "    figa = plt.figure(figsize=(5,4))\n",
    "    y = pd.Series(residuals)\n",
    "    y.plot()\n",
    "    figa.suptitle('Plot of residuals', fontsize=16)\n",
    "    plt.xlabel('Base position')\n",
    "    plt.ylabel('Residual value')\n",
    "    d = pdf.infodict()\n",
    "    d['Title'] = 'Plot of residuals ' + sex\n",
    "    d['Author'] = 'H. Simon'\n",
    "    d['Subject'] = 'Datafile: ' + csv_filename\n",
    "    d['Keywords'] = 'Notebook: ' + 'Mutations and recombination - analyse residuals.ipynb'\n",
    "    d['CreationDate'] = datetime.datetime.today()\n",
    "    pdf.savefig(figa, orientation='landscape')\n",
    "plt.show()"
   ]
  },
  {
   "cell_type": "markdown",
   "metadata": {},
   "source": [
    "Plot autocorrelation"
   ]
  },
  {
   "cell_type": "code",
   "execution_count": null,
   "metadata": {},
   "outputs": [],
   "source": [
    "with PdfPages(\"Article_references/correlation_plot_supp_b.pdf\") as pdf:\n",
    "    figb = plt.figure(figsize=(5,4))\n",
    "    figb = smt.graphics.plot_acf(y, lags=50, alpha=None, title=None)\n",
    "    figb.suptitle('Autocorrelation', fontsize=16)\n",
    "    plt.xlabel('Lag')\n",
    "    plt.ylabel('Covariance')\n",
    "    d = pdf.infodict()\n",
    "    d['Title'] = 'Plot of autocorrelation ' + sex\n",
    "    d['Author'] = 'H. Simon'\n",
    "    d['Subject'] = 'Datafile: ' + csv_filename\n",
    "    d['Keywords'] = 'Notebook: ' + 'Mutations and recombination - analyse residuals.ipynb'\n",
    "    d['CreationDate'] = datetime.datetime.today()\n",
    "    pdf.savefig(figb, orientation='landscape')\n",
    "plt.show()"
   ]
  },
  {
   "cell_type": "markdown",
   "metadata": {},
   "source": [
    "Plot partial autocorrelation"
   ]
  },
  {
   "cell_type": "code",
   "execution_count": null,
   "metadata": {},
   "outputs": [],
   "source": [
    "with PdfPages(\"Article_references/correlation_plot_supp_c.pdf\") as pdf:\n",
    "    figc = plt.figure(figsize=(5, 4))\n",
    "    figc = smt.graphics.plot_pacf(y, lags=50, alpha=None, title=None)\n",
    "    figc.suptitle('Partial autocorrelation', fontsize=16)\n",
    "    plt.xlabel('Lag')\n",
    "    plt.ylabel('Covariance')\n",
    "    d = pdf.infodict()\n",
    "    d['Title'] = 'Plot of partial autocorrelation ' + sex\n",
    "    d['Author'] = 'H. Simon'\n",
    "    d['Subject'] = 'Datafile: ' + csv_filename\n",
    "    d['Keywords'] = 'Notebook: ' + 'Mutations and recombination - analyse residuals.ipynb'\n",
    "    d['CreationDate'] = datetime.datetime.today()\n",
    "    pdf.savefig(figc, orientation='landscape')\n",
    "plt.show()"
   ]
  },
  {
   "cell_type": "markdown",
   "metadata": {},
   "source": [
    "Test the residuals for stationarity using the Augmented Dickey-Fuller test, implemented as adfuller. Note that the null hypothesis (which we reject) is that the series of residuals is * not * stationary. Stationary data can be approximated with an ARMA model (Wold decomposition theorem)."
   ]
  },
  {
   "cell_type": "code",
   "execution_count": null,
   "metadata": {},
   "outputs": [],
   "source": [
    "result = adfuller(residuals, regression='ct')\n",
    "print('ADF Statistic: %f' % result[0])\n",
    "print('p-value: %f'       % result[1])\n",
    "print('Critical Values:')\n",
    "for key, value in result[4].items():\n",
    "    print('\\t%s: %.3f'    % (key, value))\n",
    "print('AIC: %f'           % result[5])"
   ]
  },
  {
   "cell_type": "markdown",
   "metadata": {},
   "source": [
    "Select the preferred AR model and determine AIC. This is for comparison purposes only. Code to evaluate ARMA models is in shared/recombination.py."
   ]
  },
  {
   "cell_type": "code",
   "execution_count": null,
   "metadata": {},
   "outputs": [],
   "source": [
    "selectd_order = smt.AR(residuals).select_order(maxlag=30, ic='aic', trend='nc')\n",
    "print('Selected order for AR = ', selectd_order)\n",
    "mdl2 = smt.ARMA(residuals, order=(selectd_order, 0)).fit(method='mle', trend='nc')\n",
    "print('AIC for order ' + str(selectd_order) + ' = ', mdl2.aic)"
   ]
  }
 ],
 "metadata": {
  "kernelspec": {
   "display_name": "Python 3",
   "language": "python",
   "name": "python3"
  },
  "language_info": {
   "codemirror_mode": {
    "name": "ipython",
    "version": 3
   },
   "file_extension": ".py",
   "mimetype": "text/x-python",
   "name": "python",
   "nbconvert_exporter": "python",
   "pygments_lexer": "ipython3",
   "version": "3.7.3"
  }
 },
 "nbformat": 4,
 "nbformat_minor": 2
}
