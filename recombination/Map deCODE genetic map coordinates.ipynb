{
 "cells": [
  {
   "cell_type": "markdown",
   "metadata": {},
   "source": [
    "## Map deCODE genetic map coordinates\n",
    "\n",
    "Downloaded [sex averaged recombination rates](https://www.decode.com/additional/sex-averaged_noncarrier.rmap). The genome coordinates are for hg18, according to the [original Nature publication](http://www.nature.com/nature/journal/v467/n7319/full/nature09525.html). This corresponds to [NCBI Build 36.1](https://genome.ucsc.edu/FAQ/FAQreleases.html). This notebook maps coordinates onto the latest release (Genome Reference Consortium GRCh38).\n",
    "\n",
    "The contents of the recombination rate file are [described here](https://www.decode.com/addendum/).\n",
    "\n",
    "The coordinate mapping is done using a python implementation of [UCSC LiftOver](https://genome.ucsc.edu/cgi-bin/hgLiftOver). A tab delimited file with the original and new coordinate is written."
   ]
  },
  {
   "cell_type": "code",
   "execution_count": null,
   "metadata": {},
   "outputs": [],
   "source": [
    "from pyliftover import LiftOver\n",
    "import pandas as pd\n",
    "from cogent3 import LoadTable\n",
    "import os\n",
    "\n",
    "def CoordMapper(lo):\n",
    "    def process_row(chrom_pos):\n",
    "        chrom, pos = chrom_pos\n",
    "        new = lo.convert_coordinate(chrom, int(pos))\n",
    "        if not new or len(new) > 1:\n",
    "            return None\n",
    "\n",
    "        new = new[0]\n",
    "        if chrom != new[0]:\n",
    "            # different chrom\n",
    "            return None\n",
    "        \n",
    "        new_pos = new[1]\n",
    "        \n",
    "        return new_pos\n",
    "    return process_row"
   ]
  },
  {
   "cell_type": "markdown",
   "metadata": {},
   "source": [
    "Download deCODE recombination maps, then convert to `cogent3.Table`."
   ]
  },
  {
   "cell_type": "code",
   "execution_count": null,
   "metadata": {},
   "outputs": [],
   "source": [
    "path = \"...\"     #path to save resulting file\n",
    "if not os.getcwd() == path:\n",
    "    os.chdir(path)\n",
    "!curl -O https://www.decode.com/additional/sex-averaged_noncarrier.rmap\n",
    "filename = \"sex-averaged_noncarrier.rmap\"\n",
    "df = pd.read_csv(filename, sep='\\t')\n",
    "table = LoadTable(data_frame=df)"
   ]
  },
  {
   "cell_type": "markdown",
   "metadata": {},
   "source": [
    "Use pyliftover to convert to hg38 coordinates"
   ]
  },
  {
   "cell_type": "code",
   "execution_count": null,
   "metadata": {},
   "outputs": [],
   "source": [
    "lo = LiftOver(\"hg18\", \"hg38\")\n",
    "\n",
    "mapper = CoordMapper(lo)\n",
    "\n",
    "new = table.with_new_column(\"pos38\", mapper, columns=[\"chr\", \"pos\"])\n",
    "# exclude positions without a coordinate\n",
    "new = new.filtered(lambda x: x is not None, columns=\"pos38\")\n",
    "new = new.sorted(columns=[\"chr\", \"pos38\"])\n",
    "new.write(\"sex-averaged_noncarrier-hg38.csv\", sep=',')\n",
    "new[:20]"
   ]
  }
 ],
 "metadata": {
  "anaconda-cloud": {},
  "kernelspec": {
   "display_name": "Python 3",
   "language": "python",
   "name": "python3"
  },
  "language_info": {
   "codemirror_mode": {
    "name": "ipython",
    "version": 3.0
   },
   "file_extension": ".py",
   "mimetype": "text/x-python",
   "name": "python",
   "nbconvert_exporter": "python",
   "pygments_lexer": "ipython3",
   "version": "3.7.3"
  }
 },
 "nbformat": 4,
 "nbformat_minor": 0
}