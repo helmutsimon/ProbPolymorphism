{
 "cells": [
  {
   "cell_type": "markdown",
   "metadata": {},
   "source": [
    "## Plot variance by mutation\n",
    "\n",
    "Plots for Results section on influence of context on mutation."
   ]
  },
  {
   "cell_type": "code",
   "execution_count": null,
   "metadata": {},
   "outputs": [],
   "source": [
    "import pickle\n",
    "import sys, os\n",
    "import gzip\n",
    "import numpy as np\n",
    "import pandas as pd\n",
    "from cogent3 import DNA\n",
    "import seaborn as sns\n",
    "import datetime\n",
    "%matplotlib inline\n",
    "import matplotlib\n",
    "import matplotlib.pyplot as plt\n",
    "from matplotlib.backends.backend_pdf import PdfPages\n",
    "\n",
    "path = \"...\"              #insert path to data\n",
    "if not os.getcwd() == path:\n",
    "    os.chdir(path)\n",
    "sns.set_style(\"whitegrid\")"
   ]
  },
  {
   "cell_type": "markdown",
   "metadata": {},
   "source": [
    "Plot showing effect of context aggregated over mutation types."
   ]
  },
  {
   "cell_type": "code",
   "execution_count": null,
   "metadata": {},
   "outputs": [],
   "source": [
    "filename = \"...\"           #insert name of file produced by aggregate_mutation_analysis.py\n",
    "data = pd.read_csv(filename, sep=',')\n",
    "fname = \"Article_references/context-var.pdf\"     \n",
    "with PdfPages(fname) as pdf:\n",
    "    fig = plt.figure()\n",
    "    ax = sns.barplot(x='kmer', y='variance', hue='Marginalise over central base?', data=data)\n",
    "    ax.set_ylim(top=0.0006)\n",
    "    ax.set_xlabel('$k$')\n",
    "    ax.set_ylabel('$\\hat{\\sigma }_k^2$')\n",
    "    d = pdf.infodict()\n",
    "    d['Title'] = 'Plot of variance due to context aggregated over mutation directions.' \n",
    "    d['Author'] = 'H. Simon'\n",
    "    d['Subject'] = 'Datafile: ' + filename\n",
    "    d['Keywords'] = 'Notebook: ' + 'plot_variance_by_mutation.ipynb'\n",
    "    d['CreationDate'] = datetime.datetime.today()\n",
    "    pdf.savefig(fig, bbox_inches='tight')\n",
    "plt.show()"
   ]
  },
  {
   "cell_type": "markdown",
   "metadata": {},
   "source": [
    "Print plot comparing effects of contexts for different mutation types."
   ]
  },
  {
   "cell_type": "code",
   "execution_count": null,
   "metadata": {},
   "outputs": [],
   "source": [
    "job = '...'                #insert job number to identify input file\n",
    "tables = list()\n",
    "for k in ['1', '2', '3']:\n",
    "    filename = 'data/bayes_var_samples_ba' + job + '_k=' + k + '.pklz'\n",
    "    with gzip.open(filename, 'rb') as table:\n",
    "        table = pickle.load(table)\n",
    "    tables.append(table)\n",
    "    fname = \"Article_references/context-var-individual_\" + job + \".pdf\"\n",
    "with PdfPages(fname) as pdf:\n",
    "    fig, axes = plt.subplots(nrows=4, ncols=4, figsize=(10,10))\n",
    "    fig.subplots_adjust(wspace=1, hspace=0.5)\n",
    "    palette = sns.color_palette(\"coolwarm\", 3)\n",
    "    alleles = ['C', 'T', 'A', 'G']\n",
    "    for i, from_allele in enumerate(alleles):\n",
    "        for j, to_allele in enumerate(alleles):\n",
    "            axes[i, j].spines['right'].set_visible(False)\n",
    "            axes[i, j].spines['top'].set_visible(False)\n",
    "            axes[i, j].grid(b=None)\n",
    "            axes[i, j].set_yticklabels([])\n",
    "            if i == j:\n",
    "                axes[i, j].spines['left'].set_visible(False)\n",
    "                axes[i, j].spines['bottom'].set_visible(False)\n",
    "                axes[i, j].set_xticklabels([])\n",
    "            else:\n",
    "                mut_type = from_allele + '->' + to_allele\n",
    "                sns.kdeplot(tables[0][mut_type], ax=axes[i,j], label='3-mer')\n",
    "                sns.kdeplot(tables[1][mut_type], ax=axes[i,j], label='5-mer')\n",
    "                sns.kdeplot(tables[2][mut_type], ax=axes[i,j], label='7-mer')\n",
    "                axes[i, j].spines['right'].set_visible(False)\n",
    "                axes[i, j].spines['top'].set_visible(False)\n",
    "                axes[i, j].spines['left'].set_color('black')\n",
    "                axes[i, j].spines['bottom'].set_color('black')\n",
    "                axes[i, j].ticklabel_format(axis='x', style='sci', scilimits=(0,0))\n",
    "                axes[i, j].get_legend().remove()\n",
    "                if mut_type not in ['C->T', 'G->A']:\n",
    "                    axes[i,j].set_xlim(left=0) \n",
    "    for i, nuc in zip([0, 1, 2, 3], ['C', 'T', 'A', 'G']):\n",
    "        axes[0, i].set_title(nuc, fontsize=20)\n",
    "        axes[i, 0].set_ylabel(nuc, fontsize=20)\n",
    "    fig.subplots_adjust(wspace=0.6, hspace=0.4)\n",
    "    fig.text(0.5,0.96, 'TO', ha='center', fontsize=30)\n",
    "    fig.text(0.00, 0.5, 'FROM', va='center', rotation='vertical', fontsize=30)\n",
    "    handles, labels = axes[0, 1].get_legend_handles_labels()\n",
    "    axes[3, 3].legend(handles, labels, mode='expand', title='LEGEND')\n",
    "    d = pdf.infodict()\n",
    "    d['Title'] = 'Plot of variance due to context by mutation type.' \n",
    "    d['Author'] = 'H. Simon'\n",
    "    d['Subject'] = 'Datafile (7-mer): ' + filename\n",
    "    d['Keywords'] = 'Notebook: ' + 'plot_variance_by_mutation.ipynb'\n",
    "    d['CreationDate'] = datetime.datetime.today()\n",
    "    pdf.savefig(fig)\n",
    "plt.show()"
   ]
  },
  {
   "cell_type": "markdown",
   "metadata": {},
   "source": [
    "Plot strand-symmetric mutation types together, mimicing the 3 x 3 format above (fig_ssa.png). Note that the from and to heads are meaningless."
   ]
  },
  {
   "cell_type": "code",
   "execution_count": null,
   "metadata": {},
   "outputs": [],
   "source": [
    "job = \"200\"\n",
    "filename = 'data/bayes_var_samples_ba' + job + '_k=3.pklz'\n",
    "with gzip.open(filename, 'rb') as table:\n",
    "    table = pickle.load(table)\n",
    "fname = \"Article_references/fig_ss_b.pdf\"     # change to fig_ss_b.pdf for intergenic\n",
    "with PdfPages(fname) as pdf:\n",
    "    fig, axes = plt.subplots(nrows=2, ncols=3, figsize=(30,10))\n",
    "    palette = sns.color_palette(\"coolwarm\", 3)\n",
    "    mtypes = ['T\\u2192C', 'C\\u2192T', 'A\\u2192C', 'A\\u2192T', 'G\\u2192C', 'G\\u2192T']\n",
    "    for i in range(2):\n",
    "        for j in range(3):\n",
    "            axes[i, j].locator_params(axis='x', nbins=5)\n",
    "            ix = 3 * i + j\n",
    "            mut_type1 = mtypes[ix]\n",
    "            mut_type2 = DNA.complement(mut_type1[0]) + '\\u2192' + DNA.complement(mut_type1[2])\n",
    "            sns.kdeplot(table[mut_type1[0] + '->' + mut_type1[2]], ax=axes[i,j], label=mut_type1, lw=4)\n",
    "            sns.kdeplot(table[mut_type2[0] + '->' + mut_type2[2]], ax=axes[i,j], label=mut_type2, lw=4)\n",
    "            axes[i, j].ticklabel_format(axis='x', style='sci', scilimits=(0,0))\n",
    "            axes[i, j].xaxis.get_offset_text().set_fontsize(28)\n",
    "            for tick in axes[i, j].xaxis.get_major_ticks():\n",
    "                tick.label.set_fontsize(28) \n",
    "            axes[i, j].ticklabel_format(axis='y', style='sci', scilimits=(0,0))\n",
    "            axes[i,j].set_yticklabels([])  \n",
    "            axes[i,j].set_xlim(left=0) \n",
    "            axes[i, j].spines['right'].set_visible(False)\n",
    "            axes[i, j].spines['top'].set_visible(False)\n",
    "            axes[i, j].spines['left'].set_color('black')\n",
    "            axes[i, j].spines['bottom'].set_color('black')\n",
    "            axes[i,j].legend(loc=3, fontsize=28)\n",
    "    fig.subplots_adjust(wspace=0.2, hspace=0.4)\n",
    "    d = pdf.infodict()\n",
    "    d['Title'] = 'Plot of variance due to context showing strand-asymmetry.' \n",
    "    d['Author'] = 'H. Simon'\n",
    "    d['Subject'] = 'Datafile: ' + filename\n",
    "    d['Keywords'] = 'Notebook: ' + 'plot_variance_by_mutation.ipynb'\n",
    "    d['CreationDate'] = datetime.datetime.today()\n",
    "    #pdf.savefig(fig)\n",
    "plt.show()"
   ]
  },
  {
   "cell_type": "markdown",
   "metadata": {},
   "source": [
    "The cell below can be used to see if upper and lower quantiles of the posterior distributions for complementary mutations overlap."
   ]
  },
  {
   "cell_type": "code",
   "execution_count": null,
   "metadata": {},
   "outputs": [],
   "source": [
    "print(np.quantile(table['T->A'], 0.975))\n",
    "print(np.quantile(table['A->T'], 0.025))"
   ]
  },
  {
   "cell_type": "markdown",
   "metadata": {},
   "source": [
    "Check minimum context count and how many variant count cells contain zeros."
   ]
  },
  {
   "cell_type": "code",
   "execution_count": null,
   "metadata": {},
   "outputs": [],
   "source": [
    "filename = '...'\n",
    "with gzip.open(filename, 'rb') as context_data:\n",
    "        context_data = pickle.load(context_data)\n",
    "a, b = context_data.stack().idxmin()\n",
    "print(context_data.loc[[a], [b]])\n",
    "filename = '...'\n",
    "with gzip.open(filename, 'rb') as var_data:\n",
    "        var_data = pickle.load(var_data)\n",
    "count = 0\n",
    "for i in var_data.index:\n",
    "    for j in var_data.columns:\n",
    "        if var_data.loc[i, j] < 1:\n",
    "            count += 1\n",
    "print('Number of zero variant counts = ', count, ' out of ', var_data.shape[0] * var_data.shape[1])"
   ]
  }
 ],
 "metadata": {
  "kernelspec": {
   "display_name": "Python 3",
   "language": "python",
   "name": "python3"
  },
  "language_info": {
   "codemirror_mode": {
    "name": "ipython",
    "version": 3
   },
   "file_extension": ".py",
   "mimetype": "text/x-python",
   "name": "python",
   "nbconvert_exporter": "python",
   "pygments_lexer": "ipython3",
   "version": "3.7.3"
  }
 },
 "nbformat": 4,
 "nbformat_minor": 1
}
