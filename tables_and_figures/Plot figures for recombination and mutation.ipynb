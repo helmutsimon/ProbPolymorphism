{
 "cells": [
  {
   "cell_type": "markdown",
   "metadata": {},
   "source": [
    "## Plot figures for recombination and mutation"
   ]
  },
  {
   "cell_type": "code",
   "execution_count": null,
   "metadata": {},
   "outputs": [],
   "source": [
    "import sys, os\n",
    "import numpy as np\n",
    "import pandas as pd\n",
    "import gzip, pickle\n",
    "import datetime\n",
    "import seaborn as sns\n",
    "%matplotlib inline\n",
    "import matplotlib\n",
    "import matplotlib.pyplot as plt\n",
    "from matplotlib.backends.backend_pdf import PdfPages\n",
    "\n",
    "\n",
    "path = \"/.../ProbPolymorphism\"     #path to repository\n",
    "if not os.getcwd() == path:\n",
    "    os.chdir(path)\n",
    "from shared import recombination"
   ]
  },
  {
   "cell_type": "markdown",
   "metadata": {},
   "source": [
    "Violin plot for variance due to recombination by chromosome."
   ]
  },
  {
   "cell_type": "code",
   "execution_count": null,
   "metadata": {},
   "outputs": [],
   "source": [
    "path = \"...\"                            #path to data\n",
    "if not os.getcwd() == path:\n",
    "    os.chdir(path)\n",
    "fname = '...'                            #file produced by ARMA_pq_analysis_all_by_chrom.py\n",
    "with gzip.open(fname, 'rb') as variates:\n",
    "    variates = pickle.load(variates)\n",
    "\n",
    "with PdfPages(\"Article_references/violin_plot_sexav.pdf\") as pdf:\n",
    "    f = plt.figure(figsize=(15,6))\n",
    "    variates[\"chr\"] = pd.to_numeric(variates[\"chr\"])\n",
    "    sns.set_style(\"whitegrid\")\n",
    "    ax = sns.violinplot(x=\"chr\", y=\"vars\", data=variates, color='b')\n",
    "    ax.set_ylabel('$\\hat{\\sigma }^2_{rec}$', fontsize=16)\n",
    "    ax.set_xlabel('Chromosome', fontsize=16)\n",
    "    ax.ticklabel_format(axis='y', style='sci', scilimits=(0,0))\n",
    "    ax.set_ylim([0, 1e-6])\n",
    "    d = pdf.infodict()\n",
    "    d['Title'] = 'Violin plot for variance due to recombination - ' +'(sex-averaged)'\n",
    "    d['Author'] = 'H. Simon'\n",
    "    d['Subject'] = 'Datafile: ' + fname\n",
    "    d['Keywords'] = 'Notebook: ' + 'Plot figures for recombination and mutation.ipynb'\n",
    "    d['CreationDate'] = datetime.datetime.today()\n",
    "    pdf.savefig(f, orientation='landscape')\n",
    "plt.show()"
   ]
  },
  {
   "cell_type": "markdown",
   "metadata": {},
   "source": [
    "Heat map for posterior probability by mutation type and chromosome."
   ]
  },
  {
   "cell_type": "code",
   "execution_count": null,
   "metadata": {},
   "outputs": [],
   "source": [
    "path = \"...\"                                            #path to data \n",
    "if not os.getcwd() == path:\n",
    "    os.chdir(path)\n",
    "chroms = np.arange(1, 23, 2).astype('str')\n",
    "sns.set_style(\"whitegrid\")\n",
    "result = np.zeros((12, len(chroms)))\n",
    "index = ['C->T', 'G->A', 'T->C', 'A->G', 'C->G', 'G->C', 'T->G', 'A->C', 'T->A', 'A->T', 'C->A', 'G->T']\n",
    "result = pd.DataFrame(result, index=index, columns=chroms)\n",
    "for c in chroms:\n",
    "    fname = 'Recombination_data/ARMApq_results_sexav_ARARMApq_ch' + c + '.csv'\n",
    "    cfile = pd.read_csv(fname, sep=',', index_col=0)\n",
    "    result[c[:2]] = cfile['pval']\n",
    "newix = [x[0] + ' \\u2192 ' + x[3] for x in list(result.index.values)]\n",
    "result.index = newix\n",
    "\n",
    "c = np.linspace(0,1,101)\n",
    "colors = plt.get_cmap(\"Blues_r\",101)(c)\n",
    "colors[0:5] = colors[0]\n",
    "cmap = matplotlib.colors.ListedColormap(colors)    # Create a new colormap with colors\n",
    "\n",
    "with PdfPages(\"Article_references/heatmap.pdf\") as pdf:\n",
    "    f = plt.figure()\n",
    "    ax = sns.heatmap(result, cmap=cmap, cbar_kws={'label': 'Probability'})\n",
    "    ax.set_xlabel('Chromosome')\n",
    "    ax.set_ylabel('Mutation direction')\n",
    "    d = pdf.infodict()\n",
    "    d['Title'] = 'Heatmap for influence of recombination - ' +'(sex-averaged)'\n",
    "    d['Author'] = 'H. Simon'\n",
    "    d['Subject'] = 'Datafile: ' + fname[:-6] + 'X.csv'\n",
    "    d['Keywords'] = 'Notebook: ' + 'Plot figures for recombination and mutation.ipynb'\n",
    "    d['CreationDate'] = datetime.datetime.today()\n",
    "    pdf.savefig(f, orientation='landscape')\n",
    "plt.show()"
   ]
  },
  {
   "cell_type": "markdown",
   "metadata": {},
   "source": [
    "Plot variances in recombination rate for Discussion."
   ]
  },
  {
   "cell_type": "code",
   "execution_count": null,
   "metadata": {},
   "outputs": [],
   "source": [
    "path = \"...\"\n",
    "if not os.getcwd() == path:\n",
    "    os.chdir(path)\n",
    "chroms, variances = list(), list()\n",
    "for chrom in np.arange(1,23).astype(str):\n",
    "    sex = 'sex-averaged'       #options are male, female, sex-averaged\n",
    "    csv_filename = 'Recombination_data/recomb_table_SW_sex-averaged_ch' + chrom + '.csv'\n",
    "    data_table = pd.read_csv(csv_filename, sep=',', index_col=0)\n",
    "    data_table = recombination.correct_missing_data(data_table, 'LOCF', None)\n",
    "    std_rates = data_table['stdrate'].values\n",
    "    print(\"%2d\" % int(chrom), \"%.3f\" % np.mean(std_rates), \"%.3f\" % np.var(std_rates))\n",
    "    chroms.append(chrom)\n",
    "    variances.append(np.var(std_rates))\n",
    "data_tuples = list(zip(chroms,variances))\n",
    "table = pd.DataFrame(data_tuples, columns= ['Chromosome', 'Variance'])\n",
    "\n",
    "c1 = \"denim blue\"\n",
    "c2 = \"pale red\"\n",
    "colors = [c1, c1, c1, c1, c1, c1, c1, c1, c2, c1, c1, c1, c1, c1, c2, c2, c2, c1, c1, c1, c1, c2]\n",
    "colmap = sns.xkcd_palette(colors)\n",
    "sns.palplot(colmap)\n",
    "\n",
    "sns.set_style(\"whitegrid\")\n",
    "table = table.astype(float)\n",
    "table['Chromosome'] = table['Chromosome'].astype(int)\n",
    "ax = table.plot(\"Chromosome\", \"Variance\", kind=\"barh\", color=colmap, legend=False)\n",
    "ax.set_xlabel(\"Normalized variance in recombination rate\")\n",
    "ax.get_figure().savefig(\"Article_references/recomb_bar_plot.pdf\", bbox_inches='tight')"
   ]
  }
 ],
 "metadata": {
  "kernelspec": {
   "display_name": "Python 3",
   "language": "python",
   "name": "python3"
  },
  "language_info": {
   "codemirror_mode": {
    "name": "ipython",
    "version": 3.0
   },
   "file_extension": ".py",
   "mimetype": "text/x-python",
   "name": "python",
   "nbconvert_exporter": "python",
   "pygments_lexer": "ipython3",
   "version": "3.7.3"
  }
 },
 "nbformat": 4,
 "nbformat_minor": 0
}