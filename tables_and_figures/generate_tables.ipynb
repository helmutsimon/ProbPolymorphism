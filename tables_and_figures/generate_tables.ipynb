{
 "cells": [
  {
   "cell_type": "markdown",
   "metadata": {},
   "source": [
    "## Generate tables for manuscript\n",
    "\n",
    "Generate latex code for tables used in manuscript and supplementary information."
   ]
  },
  {
   "cell_type": "markdown",
   "metadata": {},
   "source": [
    "Import modules."
   ]
  },
  {
   "cell_type": "code",
   "execution_count": 1,
   "metadata": {},
   "outputs": [],
   "source": [
    "import os\n",
    "import numpy as np\n",
    "import pandas as pd\n",
    "from cogent3 import make_table\n",
    "import gzip, pickle"
   ]
  },
  {
   "cell_type": "markdown",
   "metadata": {},
   "source": [
    "Table showing variance due to recombination by 12 point mutations (Results)"
   ]
  },
  {
   "cell_type": "code",
   "execution_count": null,
   "metadata": {},
   "outputs": [],
   "source": [
    "path = \"...\"          \n",
    "# Insert required path\n",
    "if not os.getcwd() == path:\n",
    "    os.chdir(path)\n",
    "rfilename = '...'     #Insert name of file produced by ARMA_pq_analysis.py\n",
    "rtable = pd.read_csv(rfilename, sep=',', index_col=0)\n",
    "rtable = rtable[['mrate', 'pval', 'variance', 'variance25', 'variance975']]\n",
    "#reindex so that strand-symmetric mutations are together.\n",
    "newindex = ['C->T', 'G->A', 'T->C', 'A->G', 'C->G', 'G->C', 'T->G', 'A->C', 'T->A', 'A->T', 'C->A', 'G->T']\n",
    "rtable = rtable.loc[newindex]\n",
    "newix = [x[0] + '\\\\textrightarrow ' + x[3] for x in list(rtable.index.values)]\n",
    "rtable.index = newix\n",
    "column_headings = ['SNV Density', 'Probability', '$\\hat{\\sigma }^2_{rec}$', 'Lower CL 95\\%', 'Upper CL 95\\%']\n",
    "rtable.columns = column_headings\n",
    "rtable.insert(loc=0, column='Mutation', value=rtable.index)\n",
    "t = make_table(data_frame=rtable, \\\n",
    "               title=\"Analysis of the linear relationship between recombination rates and SNV densities for \\\n",
    "chromosome 1 disaggregated by mutation direction. `SNV Density\\' is the SNV density for that mutation \\\n",
    "direction (conditioned on ancestral allele); `Probability\\' is the posterior probability that the slope \\\n",
    "parameter from the linear regression is less than zero; `$\\hat{\\sigma }^2_{rec}$\\' is the estimated variance \\\n",
    "due to recombination and  `Lower CL 95\\%\\' and  `Upper CL 95\\%\\' are the limits of the 95\\% credibility interval \\\n",
    "for $\\hat{\\sigma }^2_{rec}$. Since the estimated variance in SNV density due to recombination is \\\n",
    "calculated as the difference between the total variance in SNV density and the sum of squares of the residuals, \\\n",
    "it will be negative if the model fit is worse than for a line with zero slope. This is likely to occur when the \\\n",
    "`Probability\\' value is significantly greater than zero and we reject the model.\")\n",
    "t.format_column('$\\hat{\\sigma }^2_{rec}$', \"%.1e\")\n",
    "t.format_column('Lower CL 95\\%', \"%.1e\")\n",
    "t.format_column('Upper CL 95\\%', \"%.1e\")\n",
    "t.write(\"T1.tex\", label=\"tab:recombination_mutation_types\", justify=\"lccccc\")"
   ]
  },
  {
   "cell_type": "markdown",
   "metadata": {},
   "source": [
    "Supplementary Table (recombination)."
   ]
  },
  {
   "cell_type": "code",
   "execution_count": null,
   "metadata": {},
   "outputs": [],
   "source": [
    "path = \"/Users/helmutsimon/Google Drive/Genetics/Neighbourhood Effects Project/Recombination_data\"          # Insert required path\n",
    "if not os.getcwd() == path:\n",
    "    os.chdir(path)\n",
    "fname = '...'  # Insert name of file produced by ARMA_pq_analysis_all_by_chrom.py\n",
    "chfile = pd.read_csv(fname, sep=',', index_col=0)\n",
    "recomb_chr_summary = np.zeros((22, 8))\n",
    "chrs = list(np.arange(1, 23))\n",
    "columns = ['SNV density', 'p', 'q', 'Slope', 'Intercept', '$\\hat{\\sigma }^2_{rec}$', 'Slope (M)', 'Percent']\n",
    "recomb_chr_summary = pd.DataFrame(recomb_chr_summary, index=chrs, columns=columns)\n",
    "\n",
    "for ix, ch in enumerate(chrs):\n",
    "    recomb_chr_summary.loc[ch, columns] = \\\n",
    "                chfile.loc[ix, ['snvdens', 'p', 'q', 'beta', 'alpha', 'variance', 'slopem', 'mutperco']].to_numpy()\n",
    "recomb_chr_summary['Slope'] = recomb_chr_summary['Slope'] / 0.0116  #bins are normalised rel to avge 0.0116 cM\n",
    "recomb_chr_summary['Percent'] = (recomb_chr_summary['SNV density'] - recomb_chr_summary['Intercept']) * 100 \\\n",
    "                                    / recomb_chr_summary['SNV density']\n",
    "recomb_chr_summary.insert(loc=0, column='Chr', value=recomb_chr_summary.index)\n",
    "t = make_table(data_frame=recomb_chr_summary, \\\n",
    "               title=\"Results of analysis of variance due to recombination by chromosome. \\\n",
    "`p\\' and `q\\' define the ARMA(p,q) distribution used; `Slope\\' and `Intercept\\' are the estimated parameters of\\\n",
    " the linear model expressed in terms of change in SNV density per centimorgan and SNV density respectively; \\\n",
    "`$\\hat{\\sigma }^2_{rec}$\\' is the estimated variance in SNV density due to recombination; \\\n",
    "`Slope (M)\\' is the estimated slope parameter expressed as change in mutation rate per centimorgan; and \\\n",
    "`Percent\\' is the estimated percentage of SNVs due to recombination.\")\n",
    "t.format_column('p', \"%1d\")\n",
    "t.format_column('q', \"%1d\")\n",
    "t.format_column('$\\hat{\\sigma }^2_{rec}$', \"%.2e\")\n",
    "t.format_column('Slope (M)', \"%.2e\")\n",
    "t.format_column('Percent', \"%.3f\\%%\")\n",
    "t.write(\"S1.tex\", label=\"tab:supp-recomb\", justify=\"ccccccccc\")"
   ]
  },
  {
   "cell_type": "markdown",
   "metadata": {},
   "source": [
    "Supplementary table showing posterior probability for influence of recombination on mutation by mutation type and chromosome."
   ]
  },
  {
   "cell_type": "code",
   "execution_count": null,
   "metadata": {},
   "outputs": [],
   "source": [
    "path = \"...\"           # Insert required path\n",
    "if not os.getcwd() == path:\n",
    "    os.chdir(path)\n",
    "chroms = np.arange(1,23).astype(str)\n",
    "result = np.zeros((len(chroms), 12))\n",
    "muts = ['C->T', 'G->A', 'T->C', 'A->G', 'C->G', 'G->C', 'T->G', 'A->C', 'T->A', 'A->T', 'C->A', 'G->T']\n",
    "result = pd.DataFrame(result, index=chroms, columns = muts)\n",
    "for c in chroms:\n",
    "    if c in np.arange(1, 23, 2).astype('str'):\n",
    "        fname = 'Recombination_data/ARMApq_results_sexav_ARARMApq_ch' + c + '.csv'\n",
    "    else:\n",
    "        fname = 'Recombination_data/ARMApq_results_sexav_ARMApq_ch' + c + '.csv'\n",
    "    cfile = pd.read_csv(fname, sep=',', index_col=0)\n",
    "    result.loc[c] = cfile['pval']\n",
    "newcols = [x[0] + '\\\\textrightarrow ' + x[3] for x in list(result.columns.values)]\n",
    "result.columns = newcols\n",
    "result.insert(loc=0, column='Chr', value=result.index)\n",
    "print(result)\n",
    "t = make_table(data_frame=result, \\\n",
    "               title=\"Posterior probability that recombination does not have a positive effect on mutation\\\n",
    "               by point mutation direction and chromosome.\", digits=2)\n",
    "t.write(\"S2.tex\", label=\"supp_recombination_chromosomes\", justify=\"lcccccccccccc\")"
   ]
  },
  {
   "cell_type": "markdown",
   "metadata": {},
   "source": [
    "Supplementary table showing variation due to context by 12 point mutations."
   ]
  },
  {
   "cell_type": "code",
   "execution_count": null,
   "metadata": {},
   "outputs": [],
   "source": [
    "path = \"...\"            # Insert required path\n",
    "if not os.getcwd() == path:\n",
    "    os.chdir(path)\n",
    "job = '...'           #Insert job identifier\n",
    "filename = 'data/var_counts_1ba' + job + '.pklz'\n",
    "with gzip.open(filename, 'rb') as var_counts:\n",
    "        var_counts = pickle.load(var_counts)\n",
    "filename = 'data/context_counts_1ba' + job + '.pklz'\n",
    "with gzip.open(filename, 'rb') as context_counts:\n",
    "        context_counts = pickle.load(context_counts)\n",
    "tables = list()\n",
    "for k in ['1', '2', '3']:\n",
    "    filename = 'data/bayes_var_samples_ba' + job + '_k=' + k + '.pklz'\n",
    "    with gzip.open(filename, 'rb') as table:\n",
    "        table = pickle.load(table)\n",
    "    tables.append(table)\n",
    "table1 = np.zeros((12,4))\n",
    "columns = ['Density', '$\\hat{\\sigma }^2_3$', '$\\hat{\\sigma }^2_5$', '$\\hat{\\sigma }^2_7$']\n",
    "index = tables[0].columns\n",
    "table1 = pd.DataFrame(table1, index=index, columns=columns)\n",
    "for ix in index:\n",
    "    for kmer, c in enumerate(columns[-3:]):\n",
    "        table1.loc[ix, c] = tables[kmer][ix].mean()\n",
    "for ix in index:\n",
    "    var_sums = float(var_counts[[ix]].sum())\n",
    "    context_sums = float(context_counts[[ix[0]]].sum())\n",
    "    table1.loc[ix, 'Density'] = var_sums / context_sums\n",
    "table1.index = [i[0] + '\\\\textrightarrow ' + i[3] for i in tables[0].columns]\n",
    "table1.insert(loc=0, column='Mutation', value=table1.index)\n",
    "t = make_table(data_frame=table1, \\\n",
    "               title=\"Variance in probability of SNVs due to context. $\\hat{\\sigma }^2_k$ denote the estimated\\\n",
    " variances for context size $k$. The size of context includes the central allele. Results are conditioned on\\\n",
    " mutation direction (ancestral and derived state). The column `Density\\' shows the density for each\\\n",
    " SNV direction (conditioned on the ancestral allele) for reference. See Methods and materials for data sources.\")\n",
    "t.format_column('$\\hat{\\sigma }^2_3$', \"%.2e\")\n",
    "t.format_column('$\\hat{\\sigma }^2_5$', \"%.2e\")\n",
    "t.format_column('$\\hat{\\sigma }^2_7$', \"%.2e\")\n",
    "t.write(\"S3.tex\", label=\"tab:supp_context\", justify=\"ccccc\")"
   ]
  },
  {
   "cell_type": "markdown",
   "metadata": {},
   "source": [
    "Supplementary Table showing results for recombination using OLSR."
   ]
  },
  {
   "cell_type": "code",
   "execution_count": 5,
   "metadata": {
    "scrolled": true
   },
   "outputs": [],
   "source": [
    "path = \"...\"        # Insert required path\n",
    "if not os.getcwd() == path:\n",
    "    os.chdir(path)\n",
    "fname = path + '...'  # Insert filname\n",
    "OLSLRfile = pd.read_csv(fname, sep=',', index_col=0)\n",
    "OLSLRfile.columns = ['SNV density', 'Slope', 'Intercept', '$\\hat{\\sigma }^2_{rec}$', 'Mutations']\n",
    "OLSLRfile.insert(loc=0, column='Chr', value=OLSLRfile.index)\n",
    "t = make_table(data_frame=OLSLRfile, \\\n",
    "               title=\"Results of analysis of variance due to recombination by chromosome using ordinary last squares linear regression (OLSLR). `Slope\\' and `Intercept\\' are the estimated parameters\\\n",
    " of the linear model expressed in terms of change in SNV density per centimorgan and SNV density respectively;\\\n",
    " `$\\hat{\\sigma }^2_{rec}$\\' is the estimated variance in SNV density due to recombination;\\\n",
    " and `Mutations\\' is the estimated average number of mutations resulting from a recombination event.\")\n",
    "t.write(\"S4.tex\", label=\"tab:supp-OLSLR\", justify=\"cccccccc\")"
   ]
  },
  {
   "cell_type": "markdown",
   "metadata": {},
   "source": [
    "Supplementary Table showing numbers of variants by chromosome."
   ]
  },
  {
   "cell_type": "code",
   "execution_count": 43,
   "metadata": {},
   "outputs": [],
   "source": [
    "path = \"/Users/helmutsimon/Google Drive/Genetics/Neighbourhood Effects Project\"        # Insert required path\n",
    "if not os.getcwd() == path:\n",
    "    os.chdir(path)\n",
    "f1name = path + '/data/merge_counts_mcd020.csv'  # Insert filname\n",
    "ccounts = pd.read_csv(f1name, sep=',', index_col=0)\n",
    "f2name = path + '/Recombination_data/recomb_var_countscrtv001.csv'\n",
    "rcounts = pd.read_csv(f2name, sep=',', index_col=0)\n",
    "results = pd.DataFrame()\n",
    "results['Intronic variants'] = ccounts.iloc[:,1]\n",
    "results['All variants'] = rcounts.iloc[:,1].astype(int)\n",
    "results.insert(loc=0, column='Chromosome', value=np.arange(1,23))\n",
    "title=\"Counts of filtered variants by chromosome. Intronic variants were used for context analysis and all\\\n",
    "             variants were used for recombination analysis\"\n",
    "t = make_table(data_frame=results, title=title)\n",
    "t.write(\"S5.tex\", label=\"tab:supp-counts\", justify=\"ccc\")"
   ]
  },
  {
   "cell_type": "code",
   "execution_count": null,
   "metadata": {},
   "outputs": [],
   "source": []
  }
 ],
 "metadata": {
  "kernelspec": {
   "display_name": "Python 3",
   "language": "python",
   "name": "python3"
  },
  "language_info": {
   "codemirror_mode": {
    "name": "ipython",
    "version": 3
   },
   "file_extension": ".py",
   "mimetype": "text/x-python",
   "name": "python",
   "nbconvert_exporter": "python",
   "pygments_lexer": "ipython3",
   "version": "3.7.3"
  }
 },
 "nbformat": 4,
 "nbformat_minor": 2
}
